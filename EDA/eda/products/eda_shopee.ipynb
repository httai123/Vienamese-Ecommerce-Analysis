{
 "cells": [
  {
   "cell_type": "markdown",
   "metadata": {},
   "source": [
    "### 1. Import Libraries"
   ]
  },
  {
   "cell_type": "code",
   "execution_count": 4,
   "metadata": {},
   "outputs": [],
   "source": [
    "import pandas as pd \n",
    "import numpy as np\n",
    "import os \n",
    "from pathlib import Path"
   ]
  },
  {
   "cell_type": "markdown",
   "metadata": {},
   "source": [
    "### 2. Reading the Data"
   ]
  },
  {
   "cell_type": "code",
   "execution_count": 10,
   "metadata": {},
   "outputs": [
    {
     "data": {
      "text/html": [
       "<div>\n",
       "<style scoped>\n",
       "    .dataframe tbody tr th:only-of-type {\n",
       "        vertical-align: middle;\n",
       "    }\n",
       "\n",
       "    .dataframe tbody tr th {\n",
       "        vertical-align: top;\n",
       "    }\n",
       "\n",
       "    .dataframe thead th {\n",
       "        text-align: right;\n",
       "    }\n",
       "</style>\n",
       "<table border=\"1\" class=\"dataframe\">\n",
       "  <thead>\n",
       "    <tr style=\"text-align: right;\">\n",
       "      <th></th>\n",
       "      <th>Unnamed: 0</th>\n",
       "      <th>itemid</th>\n",
       "      <th>shopid</th>\n",
       "      <th>name</th>\n",
       "      <th>brand</th>\n",
       "      <th>subcatid</th>\n",
       "      <th>cb_option</th>\n",
       "      <th>cmt_count</th>\n",
       "      <th>rating</th>\n",
       "      <th>ctime</th>\n",
       "      <th>...</th>\n",
       "      <th>price</th>\n",
       "      <th>discount</th>\n",
       "      <th>stock</th>\n",
       "      <th>show_free_shipping</th>\n",
       "      <th>shop_location</th>\n",
       "      <th>shopee_verified</th>\n",
       "      <th>can_use_bundle_deal</th>\n",
       "      <th>can_use_cod</th>\n",
       "      <th>catid</th>\n",
       "      <th>category</th>\n",
       "    </tr>\n",
       "  </thead>\n",
       "  <tbody>\n",
       "    <tr>\n",
       "      <th>0</th>\n",
       "      <td>0</td>\n",
       "      <td>1546899006</td>\n",
       "      <td>93922606</td>\n",
       "      <td>Bàn phím giả cơ gaming kèm chuột có dây chế độ...</td>\n",
       "      <td>No Brand</td>\n",
       "      <td>100644</td>\n",
       "      <td>0</td>\n",
       "      <td>28766</td>\n",
       "      <td>4.753601</td>\n",
       "      <td>1538622802</td>\n",
       "      <td>...</td>\n",
       "      <td>4100000000</td>\n",
       "      <td>34%</td>\n",
       "      <td>244373</td>\n",
       "      <td>True</td>\n",
       "      <td>Hà Nội</td>\n",
       "      <td>True</td>\n",
       "      <td>False</td>\n",
       "      <td>True</td>\n",
       "      <td>110360</td>\n",
       "      <td>Bàn phím</td>\n",
       "    </tr>\n",
       "    <tr>\n",
       "      <th>1</th>\n",
       "      <td>1</td>\n",
       "      <td>6989181845</td>\n",
       "      <td>268182642</td>\n",
       "      <td>Bàn Phím Máy Tính Gaming RGB SIDOTECH LDK V4 P...</td>\n",
       "      <td>NaN</td>\n",
       "      <td>100644</td>\n",
       "      <td>0</td>\n",
       "      <td>4438</td>\n",
       "      <td>4.775372</td>\n",
       "      <td>1621337118</td>\n",
       "      <td>...</td>\n",
       "      <td>12400000000</td>\n",
       "      <td>50%</td>\n",
       "      <td>250</td>\n",
       "      <td>True</td>\n",
       "      <td>Hà Nội</td>\n",
       "      <td>False</td>\n",
       "      <td>False</td>\n",
       "      <td>True</td>\n",
       "      <td>110360</td>\n",
       "      <td>Bàn phím</td>\n",
       "    </tr>\n",
       "    <tr>\n",
       "      <th>2</th>\n",
       "      <td>2</td>\n",
       "      <td>3066084859</td>\n",
       "      <td>45654584</td>\n",
       "      <td>Bàn phím máy tính gaming G21, bàn phím giả cơ ...</td>\n",
       "      <td>NaN</td>\n",
       "      <td>100644</td>\n",
       "      <td>0</td>\n",
       "      <td>2475</td>\n",
       "      <td>4.766680</td>\n",
       "      <td>1624443365</td>\n",
       "      <td>...</td>\n",
       "      <td>3500000000</td>\n",
       "      <td>37%</td>\n",
       "      <td>448</td>\n",
       "      <td>True</td>\n",
       "      <td>TP. Hồ Chí Minh</td>\n",
       "      <td>True</td>\n",
       "      <td>False</td>\n",
       "      <td>True</td>\n",
       "      <td>110360</td>\n",
       "      <td>Bàn phím</td>\n",
       "    </tr>\n",
       "    <tr>\n",
       "      <th>3</th>\n",
       "      <td>3</td>\n",
       "      <td>20259729410</td>\n",
       "      <td>12208293</td>\n",
       "      <td>Bàn Phím Cơ Bluetooth Không Dây K68BT Trục Cơ ...</td>\n",
       "      <td>NaN</td>\n",
       "      <td>100644</td>\n",
       "      <td>0</td>\n",
       "      <td>1060</td>\n",
       "      <td>4.893396</td>\n",
       "      <td>1667447533</td>\n",
       "      <td>...</td>\n",
       "      <td>48900000000</td>\n",
       "      <td>39%</td>\n",
       "      <td>40</td>\n",
       "      <td>False</td>\n",
       "      <td>Hà Nội</td>\n",
       "      <td>True</td>\n",
       "      <td>False</td>\n",
       "      <td>True</td>\n",
       "      <td>110360</td>\n",
       "      <td>Bàn phím</td>\n",
       "    </tr>\n",
       "    <tr>\n",
       "      <th>4</th>\n",
       "      <td>4</td>\n",
       "      <td>17817240547</td>\n",
       "      <td>697719850</td>\n",
       "      <td>bàn phím cơ rgb led K550 LEAVEN Giao hàng 24 g...</td>\n",
       "      <td>NaN</td>\n",
       "      <td>100644</td>\n",
       "      <td>0</td>\n",
       "      <td>4446</td>\n",
       "      <td>4.826811</td>\n",
       "      <td>1646292261</td>\n",
       "      <td>...</td>\n",
       "      <td>31300000000</td>\n",
       "      <td>50%</td>\n",
       "      <td>225143</td>\n",
       "      <td>False</td>\n",
       "      <td>Hà Nội</td>\n",
       "      <td>True</td>\n",
       "      <td>False</td>\n",
       "      <td>True</td>\n",
       "      <td>110360</td>\n",
       "      <td>Bàn phím</td>\n",
       "    </tr>\n",
       "  </tbody>\n",
       "</table>\n",
       "<p>5 rows × 25 columns</p>\n",
       "</div>"
      ],
      "text/plain": [
       "   Unnamed: 0       itemid     shopid  \\\n",
       "0           0   1546899006   93922606   \n",
       "1           1   6989181845  268182642   \n",
       "2           2   3066084859   45654584   \n",
       "3           3  20259729410   12208293   \n",
       "4           4  17817240547  697719850   \n",
       "\n",
       "                                                name     brand  subcatid  \\\n",
       "0  Bàn phím giả cơ gaming kèm chuột có dây chế độ...  No Brand    100644   \n",
       "1  Bàn Phím Máy Tính Gaming RGB SIDOTECH LDK V4 P...       NaN    100644   \n",
       "2  Bàn phím máy tính gaming G21, bàn phím giả cơ ...       NaN    100644   \n",
       "3  Bàn Phím Cơ Bluetooth Không Dây K68BT Trục Cơ ...       NaN    100644   \n",
       "4  bàn phím cơ rgb led K550 LEAVEN Giao hàng 24 g...       NaN    100644   \n",
       "\n",
       "   cb_option  cmt_count    rating       ctime  ...        price  discount  \\\n",
       "0          0      28766  4.753601  1538622802  ...   4100000000       34%   \n",
       "1          0       4438  4.775372  1621337118  ...  12400000000       50%   \n",
       "2          0       2475  4.766680  1624443365  ...   3500000000       37%   \n",
       "3          0       1060  4.893396  1667447533  ...  48900000000       39%   \n",
       "4          0       4446  4.826811  1646292261  ...  31300000000       50%   \n",
       "\n",
       "    stock  show_free_shipping    shop_location  shopee_verified  \\\n",
       "0  244373                True           Hà Nội             True   \n",
       "1     250                True           Hà Nội            False   \n",
       "2     448                True  TP. Hồ Chí Minh             True   \n",
       "3      40               False           Hà Nội             True   \n",
       "4  225143               False           Hà Nội             True   \n",
       "\n",
       "  can_use_bundle_deal  can_use_cod   catid  category  \n",
       "0               False         True  110360  Bàn phím  \n",
       "1               False         True  110360  Bàn phím  \n",
       "2               False         True  110360  Bàn phím  \n",
       "3               False         True  110360  Bàn phím  \n",
       "4               False         True  110360  Bàn phím  \n",
       "\n",
       "[5 rows x 25 columns]"
      ]
     },
     "execution_count": 10,
     "metadata": {},
     "output_type": "execute_result"
    }
   ],
   "source": [
    "import os\n",
    "import pandas as pd\n",
    "\n",
    "file_names = [\"P_banphim.csv\", \"banvedientu.csv\", \"P_chuot.csv\", \"danamthanh.csv\", \"dienthoai_phukien.csv\", \"P_gameconsole.csv\",\n",
    "              \"laptop.csv\", \"P_linhkienmaytinh.csv\", \"pc.csv\", \"maynghenhac.csv\", \"P_micro.csv\", \"tainghe.csv\",\n",
    "              \"tivi.csv\", \"sac.csv\", \"maytinhbang.csv\",\"machdientu.csv\",\"tainghecoday.csv\"]\n",
    "\n",
    "dataframes = []\n",
    "categories = [\"Bàn phím\", \"Bản vẽ điện tử\", \"Chuột\", \"Âm thanh\", \"Điện thoại phụ kiện\", \"Game console\",\n",
    "              \"Laptop\", \"Linh kiện máy tính\", \"PC\", \"Máy nghe nhạc\", \"Micro\", \"Tai nghe\",\n",
    "              \"Tivi\", \"Sạc\", \"Máy tính bảng\", \"Mạch điện tử\", \"Tai nghe\"]\n",
    "\n",
    "csv_folder = \"E:\\MY CAREER\\Internship Project\\EDA\\dataset\\shopee\\Product\"\n",
    "\n",
    "for file_name, category in zip(file_names, categories):\n",
    "    path = os.path.join(csv_folder, file_name)\n",
    "    try:\n",
    "        df = pd.read_csv(path)\n",
    "        df[\"category\"] = category  # Thêm cột \"category\" với giá trị tương ứng\n",
    "        dataframes.append(df)\n",
    "    except pd.errors.ParserError as e:\n",
    "        print(f\"Error reading file {file_name}: {e}\")\n",
    "\n",
    "combined_df = pd.concat(dataframes, ignore_index=True)\n",
    "combined_df.head()\n"
   ]
  },
  {
   "cell_type": "code",
   "execution_count": 12,
   "metadata": {},
   "outputs": [
    {
     "data": {
      "text/plain": [
       "(16183, 25)"
      ]
     },
     "execution_count": 12,
     "metadata": {},
     "output_type": "execute_result"
    }
   ],
   "source": [
    "combined_df.shape"
   ]
  },
  {
   "cell_type": "code",
   "execution_count": 13,
   "metadata": {},
   "outputs": [
    {
     "data": {
      "text/plain": [
       "Index(['Unnamed: 0', 'itemid', 'shopid', 'name', 'brand', 'subcatid',\n",
       "       'cb_option', 'cmt_count', 'rating', 'ctime', 'flag', 'historical_sold',\n",
       "       'is_adult', 'is_official_shop', 'liked_count', 'price', 'discount',\n",
       "       'stock', 'show_free_shipping', 'shop_location', 'shopee_verified',\n",
       "       'can_use_bundle_deal', 'can_use_cod', 'catid', 'category'],\n",
       "      dtype='object')"
      ]
     },
     "execution_count": 13,
     "metadata": {},
     "output_type": "execute_result"
    }
   ],
   "source": [
    "combined_df.columns"
   ]
  },
  {
   "cell_type": "code",
   "execution_count": 14,
   "metadata": {},
   "outputs": [
    {
     "data": {
      "text/html": [
       "<div>\n",
       "<style scoped>\n",
       "    .dataframe tbody tr th:only-of-type {\n",
       "        vertical-align: middle;\n",
       "    }\n",
       "\n",
       "    .dataframe tbody tr th {\n",
       "        vertical-align: top;\n",
       "    }\n",
       "\n",
       "    .dataframe thead th {\n",
       "        text-align: right;\n",
       "    }\n",
       "</style>\n",
       "<table border=\"1\" class=\"dataframe\">\n",
       "  <thead>\n",
       "    <tr style=\"text-align: right;\">\n",
       "      <th></th>\n",
       "      <th>itemid</th>\n",
       "      <th>shopid</th>\n",
       "      <th>name</th>\n",
       "      <th>brand</th>\n",
       "      <th>subcatid</th>\n",
       "      <th>category</th>\n",
       "      <th>cb_option</th>\n",
       "      <th>cmt_count</th>\n",
       "      <th>rating</th>\n",
       "      <th>ctime</th>\n",
       "      <th>...</th>\n",
       "      <th>is_official_shop</th>\n",
       "      <th>liked_count</th>\n",
       "      <th>price</th>\n",
       "      <th>discount</th>\n",
       "      <th>stock</th>\n",
       "      <th>show_free_shipping</th>\n",
       "      <th>shop_location</th>\n",
       "      <th>shopee_verified</th>\n",
       "      <th>can_use_bundle_deal</th>\n",
       "      <th>can_use_cod</th>\n",
       "    </tr>\n",
       "  </thead>\n",
       "  <tbody>\n",
       "    <tr>\n",
       "      <th>0</th>\n",
       "      <td>1546899006</td>\n",
       "      <td>93922606</td>\n",
       "      <td>Bàn phím giả cơ gaming kèm chuột có dây chế độ...</td>\n",
       "      <td>No Brand</td>\n",
       "      <td>100644</td>\n",
       "      <td>Bàn phím</td>\n",
       "      <td>0</td>\n",
       "      <td>28766</td>\n",
       "      <td>4.753601</td>\n",
       "      <td>1538622802</td>\n",
       "      <td>...</td>\n",
       "      <td>False</td>\n",
       "      <td>14312</td>\n",
       "      <td>4100000000</td>\n",
       "      <td>34%</td>\n",
       "      <td>244373</td>\n",
       "      <td>True</td>\n",
       "      <td>Hà Nội</td>\n",
       "      <td>True</td>\n",
       "      <td>False</td>\n",
       "      <td>True</td>\n",
       "    </tr>\n",
       "    <tr>\n",
       "      <th>1</th>\n",
       "      <td>6989181845</td>\n",
       "      <td>268182642</td>\n",
       "      <td>Bàn Phím Máy Tính Gaming RGB SIDOTECH LDK V4 P...</td>\n",
       "      <td>NaN</td>\n",
       "      <td>100644</td>\n",
       "      <td>Bàn phím</td>\n",
       "      <td>0</td>\n",
       "      <td>4438</td>\n",
       "      <td>4.775372</td>\n",
       "      <td>1621337118</td>\n",
       "      <td>...</td>\n",
       "      <td>True</td>\n",
       "      <td>3325</td>\n",
       "      <td>12400000000</td>\n",
       "      <td>50%</td>\n",
       "      <td>250</td>\n",
       "      <td>True</td>\n",
       "      <td>Hà Nội</td>\n",
       "      <td>False</td>\n",
       "      <td>False</td>\n",
       "      <td>True</td>\n",
       "    </tr>\n",
       "    <tr>\n",
       "      <th>2</th>\n",
       "      <td>3066084859</td>\n",
       "      <td>45654584</td>\n",
       "      <td>Bàn phím máy tính gaming G21, bàn phím giả cơ ...</td>\n",
       "      <td>NaN</td>\n",
       "      <td>100644</td>\n",
       "      <td>Bàn phím</td>\n",
       "      <td>0</td>\n",
       "      <td>2475</td>\n",
       "      <td>4.766680</td>\n",
       "      <td>1624443365</td>\n",
       "      <td>...</td>\n",
       "      <td>False</td>\n",
       "      <td>1134</td>\n",
       "      <td>3500000000</td>\n",
       "      <td>37%</td>\n",
       "      <td>448</td>\n",
       "      <td>True</td>\n",
       "      <td>TP. Hồ Chí Minh</td>\n",
       "      <td>True</td>\n",
       "      <td>False</td>\n",
       "      <td>True</td>\n",
       "    </tr>\n",
       "    <tr>\n",
       "      <th>3</th>\n",
       "      <td>20259729410</td>\n",
       "      <td>12208293</td>\n",
       "      <td>Bàn Phím Cơ Bluetooth Không Dây K68BT Trục Cơ ...</td>\n",
       "      <td>NaN</td>\n",
       "      <td>100644</td>\n",
       "      <td>Bàn phím</td>\n",
       "      <td>0</td>\n",
       "      <td>1060</td>\n",
       "      <td>4.893396</td>\n",
       "      <td>1667447533</td>\n",
       "      <td>...</td>\n",
       "      <td>False</td>\n",
       "      <td>1632</td>\n",
       "      <td>48900000000</td>\n",
       "      <td>39%</td>\n",
       "      <td>40</td>\n",
       "      <td>False</td>\n",
       "      <td>Hà Nội</td>\n",
       "      <td>True</td>\n",
       "      <td>False</td>\n",
       "      <td>True</td>\n",
       "    </tr>\n",
       "    <tr>\n",
       "      <th>4</th>\n",
       "      <td>17817240547</td>\n",
       "      <td>697719850</td>\n",
       "      <td>bàn phím cơ rgb led K550 LEAVEN Giao hàng 24 g...</td>\n",
       "      <td>NaN</td>\n",
       "      <td>100644</td>\n",
       "      <td>Bàn phím</td>\n",
       "      <td>0</td>\n",
       "      <td>4446</td>\n",
       "      <td>4.826811</td>\n",
       "      <td>1646292261</td>\n",
       "      <td>...</td>\n",
       "      <td>False</td>\n",
       "      <td>3141</td>\n",
       "      <td>31300000000</td>\n",
       "      <td>50%</td>\n",
       "      <td>225143</td>\n",
       "      <td>False</td>\n",
       "      <td>Hà Nội</td>\n",
       "      <td>True</td>\n",
       "      <td>False</td>\n",
       "      <td>True</td>\n",
       "    </tr>\n",
       "  </tbody>\n",
       "</table>\n",
       "<p>5 rows × 23 columns</p>\n",
       "</div>"
      ],
      "text/plain": [
       "        itemid     shopid                                               name  \\\n",
       "0   1546899006   93922606  Bàn phím giả cơ gaming kèm chuột có dây chế độ...   \n",
       "1   6989181845  268182642  Bàn Phím Máy Tính Gaming RGB SIDOTECH LDK V4 P...   \n",
       "2   3066084859   45654584  Bàn phím máy tính gaming G21, bàn phím giả cơ ...   \n",
       "3  20259729410   12208293  Bàn Phím Cơ Bluetooth Không Dây K68BT Trục Cơ ...   \n",
       "4  17817240547  697719850  bàn phím cơ rgb led K550 LEAVEN Giao hàng 24 g...   \n",
       "\n",
       "      brand  subcatid  category  cb_option  cmt_count    rating       ctime  \\\n",
       "0  No Brand    100644  Bàn phím          0      28766  4.753601  1538622802   \n",
       "1       NaN    100644  Bàn phím          0       4438  4.775372  1621337118   \n",
       "2       NaN    100644  Bàn phím          0       2475  4.766680  1624443365   \n",
       "3       NaN    100644  Bàn phím          0       1060  4.893396  1667447533   \n",
       "4       NaN    100644  Bàn phím          0       4446  4.826811  1646292261   \n",
       "\n",
       "   ...  is_official_shop  liked_count        price  discount   stock  \\\n",
       "0  ...             False        14312   4100000000       34%  244373   \n",
       "1  ...              True         3325  12400000000       50%     250   \n",
       "2  ...             False         1134   3500000000       37%     448   \n",
       "3  ...             False         1632  48900000000       39%      40   \n",
       "4  ...             False         3141  31300000000       50%  225143   \n",
       "\n",
       "   show_free_shipping    shop_location  shopee_verified  can_use_bundle_deal  \\\n",
       "0                True           Hà Nội             True                False   \n",
       "1                True           Hà Nội            False                False   \n",
       "2                True  TP. Hồ Chí Minh             True                False   \n",
       "3               False           Hà Nội             True                False   \n",
       "4               False           Hà Nội             True                False   \n",
       "\n",
       "  can_use_cod  \n",
       "0        True  \n",
       "1        True  \n",
       "2        True  \n",
       "3        True  \n",
       "4        True  \n",
       "\n",
       "[5 rows x 23 columns]"
      ]
     },
     "execution_count": 14,
     "metadata": {},
     "output_type": "execute_result"
    }
   ],
   "source": [
    "columns= ['itemid', 'shopid', 'name', 'brand', 'subcatid','category',\n",
    "       'cb_option', 'cmt_count', 'rating', 'ctime', 'flag', 'historical_sold',\n",
    "       'is_adult', 'is_official_shop', 'liked_count', 'price', 'discount',\n",
    "       'stock', 'show_free_shipping', 'shop_location', 'shopee_verified',\n",
    "       'can_use_bundle_deal', 'can_use_cod']\n",
    "new_df = combined_df[columns]\n",
    "new_df.head()"
   ]
  },
  {
   "cell_type": "markdown",
   "metadata": {},
   "source": [
    "### 3. Data Cleaning & Exploring"
   ]
  },
  {
   "cell_type": "code",
   "execution_count": 15,
   "metadata": {},
   "outputs": [
    {
     "data": {
      "text/plain": [
       "348"
      ]
     },
     "execution_count": 15,
     "metadata": {},
     "output_type": "execute_result"
    }
   ],
   "source": [
    "num_duplicates = new_df.duplicated(subset='itemid').sum()\n",
    "num_duplicates"
   ]
  },
  {
   "cell_type": "markdown",
   "metadata": {},
   "source": [
    "Co 348 san pham bi trung lap the nen toi se tien hanh xoa chung di"
   ]
  },
  {
   "cell_type": "code",
   "execution_count": 16,
   "metadata": {},
   "outputs": [
    {
     "name": "stderr",
     "output_type": "stream",
     "text": [
      "C:\\Users\\Rauciss\\AppData\\Local\\Temp\\ipykernel_19176\\2519479065.py:1: SettingWithCopyWarning: \n",
      "A value is trying to be set on a copy of a slice from a DataFrame\n",
      "\n",
      "See the caveats in the documentation: https://pandas.pydata.org/pandas-docs/stable/user_guide/indexing.html#returning-a-view-versus-a-copy\n",
      "  new_df.drop_duplicates(subset='itemid', inplace=True, keep = 'last')\n"
     ]
    },
    {
     "data": {
      "text/plain": [
       "0"
      ]
     },
     "execution_count": 16,
     "metadata": {},
     "output_type": "execute_result"
    }
   ],
   "source": [
    "new_df.drop_duplicates(subset='itemid', inplace=True, keep = 'last')\n",
    "num_duplicates = new_df.duplicated(subset='itemid').sum()\n",
    "num_duplicates"
   ]
  },
  {
   "cell_type": "code",
   "execution_count": 17,
   "metadata": {},
   "outputs": [
    {
     "name": "stdout",
     "output_type": "stream",
     "text": [
      "<class 'pandas.core.frame.DataFrame'>\n",
      "Int64Index: 15835 entries, 2 to 16182\n",
      "Data columns (total 23 columns):\n",
      " #   Column               Non-Null Count  Dtype  \n",
      "---  ------               --------------  -----  \n",
      " 0   itemid               15835 non-null  int64  \n",
      " 1   shopid               15835 non-null  int64  \n",
      " 2   name                 15835 non-null  object \n",
      " 3   brand                3889 non-null   object \n",
      " 4   subcatid             15835 non-null  int64  \n",
      " 5   category             15835 non-null  object \n",
      " 6   cb_option            15835 non-null  int64  \n",
      " 7   cmt_count            15835 non-null  int64  \n",
      " 8   rating               15835 non-null  float64\n",
      " 9   ctime                15835 non-null  int64  \n",
      " 10  flag                 15835 non-null  int64  \n",
      " 11  historical_sold      15835 non-null  int64  \n",
      " 12  is_adult             15835 non-null  bool   \n",
      " 13  is_official_shop     15835 non-null  bool   \n",
      " 14  liked_count          15835 non-null  int64  \n",
      " 15  price                15835 non-null  int64  \n",
      " 16  discount             9504 non-null   object \n",
      " 17  stock                15835 non-null  int64  \n",
      " 18  show_free_shipping   15835 non-null  bool   \n",
      " 19  shop_location        15759 non-null  object \n",
      " 20  shopee_verified      15835 non-null  bool   \n",
      " 21  can_use_bundle_deal  15835 non-null  bool   \n",
      " 22  can_use_cod          15835 non-null  bool   \n",
      "dtypes: bool(6), float64(1), int64(11), object(5)\n",
      "memory usage: 2.3+ MB\n"
     ]
    }
   ],
   "source": [
    "new_df.info()"
   ]
  },
  {
   "cell_type": "markdown",
   "metadata": {},
   "source": [
    "Nhan thay brand, discount, shop_location co cac gia tri null nen chung ta kiem tra va tien hanh xu ly gia tri thieu\n"
   ]
  },
  {
   "cell_type": "code",
   "execution_count": 18,
   "metadata": {},
   "outputs": [
    {
     "name": "stdout",
     "output_type": "stream",
     "text": [
      "[nan, 'No Brand', 'MOFII', 'logitech', 'DAREU', 'Newmen', 'No brand', 'Fuhlen', 'Electronic', 'E-DRA', '0', 'HP', 'R8', 'NoBrand', 'DELL', 'OEM', 'Prolink', 'XSmart', 'Free Wolf', 'LIMEIDE', 'MOFii', 'Meetion', 'E-Blue', 'None', 'BOSSTON', 'AULA', 'Onikuma', 'ASSASSINS', 'Logitech', 'PHILIPS', 'Ajazz', 'Royal Kludge', 'oem', 'MIXIE', 'LANGTU', 'ONEKA', 'iMice', 'Lofree', 'Acer', 'hoco.', 'Toshiba', 'Xiaomi', 'Wacom', 'HUION', 'XP-Pen', 'Bluelans', 'Sido Tech', 'Forter', 'Limeipe', 'Genius', 'Lenovo', 'Corsair', 'RAZER', 'HXSJ', 'Inphic', 'A4TECH', 'kebidumei', 'ROBOT', 'Mitsumi', 'ARS', 'JBL', 'Sony', 'SONY', 'Boston', 'BMB', 'Jarguar Suhyoung', 'Avector', 'ONTEK', 'Bose', 'ONTEKCO', 'BOSE', 'Arirang', 'LG', 'MICROLAB', 'audio-technica', 'Samsung', 'DIDO', 'Ugreen', 'microlab', 'ACNOS', 'SoundMax', 'Google', 'MIFA', 'Marshall', 'TRONSMART', 'harman/kardon', 'Fenda', 'RHM', 'KIOMIC', 'AUDIOENGINE', 'Bang & Olufsen', 'Google Home', 'Klipsch', 'Yayusi', 'JBZ', 'KOVIT', 'PKCB', 'CROWN', 'SOUNDMAX', 'Baseus', 'W-King', 'VIVAN', 'SAMSUNG', 'JVJ', 'JBA', 'soundmax', 'Bosston', 'sony', 'GOLDEN FIELD', 'Divoom', 'Mackie', 'Pioneer', 'DEVIALET', 'GrownTech', 'GUTEK', 'SADA', 'BOROFONE', 'Zealot', 'Sunrise', 'Bmax', 'NOKIA', 'oppo', 'Xiaomi.', 'Fujitsu', 'OPPO', 'Kyocera', '2GOOD', 'Vivo', 'Vsmart', 'Black Shark', 'Blackberry', 'Meizu', 'NINTENDO', 'Microsoft', 'PlayStation', 'Nintendo Switch', 'Memo', 'Orico', 'Nintendo switch', 'Nintendo', 'calcutta', 'Dell', 'Asus', 'Lenovo  ', 'Panasonic', 'ThinkPad', 'KING-MASTER', 'Zachia', 'Gigabyte', 'Hp', 'msi', 'TOSHIBA', 'SamSung', 'NEC', 'Chuwi', 'hp', 'Kingston', 'IBM', 'MẠCH VIỆT', 'Kingmax', 'BITMAIN', 'Coolman Sunshine', 'XIGMATEK', 'avermedia', 'Intel™', 'ASROCK', 'Huawei', 'CORSAIR', 'pluscloth', 'JETEK', 'Intel', 'intel', 'fujitsu', 'BenQ', 'Ruizu', 'Benjie', 'ruizu', 'CRAVEN', 'Suntek', 'XDuoo', 'Uniscom', 'Unizone', 'Apple', 'OLYMPUS', 'MAONO', 'Senicc', 'WOAICHANG', 'ONTEKCO ', 'ZANSONG', 'Borofone', 'C.O.K', 'HyperX', 'SENNHEISER', 'ALTEC LANSING', 'Camelion', 'Woaichang', 'micro máy tính', 'Earldom', 'GOOJODOQ', 'Langsdom', 'Doublepow', 'Shiseido', 'Ssk', 'ROCKSPACE', 'Amoi', 'TWS', 'vitog', 'AKG', 'Magicsee', 'VietTech', 'PLEXTONE', 'QCY', 'Coocaa', 'Sharp', 'SHARP', 'TCL', 'Philips', 'Asanzo', 'Clip TV Box', 'Ilepo', 'DARLING', 'Casper', 'SUMIKURA', 'ASANO', 'ANKER', 'Essager', 'Energizer', 'FengZhiLife', 'Yoobao', 'RAVPower', 'Zadez', 'Remax', 'iCore', 'Remax.', 'SD DESIGN', 'Romoss', 'Wk Design', 'kuulaa', 'Elecom', 'BASIKE', 'Belkin', 'EARLDOM', 'kindle', 'Google Nexus', 'FIRE HD 10 2017', 'Galaxy Store', 'ZTE', 'Amazon', 'Amazon Fire 8', 'Mobell', 'Alcatel One touch Idol', 'Sony Ericssons', 'Orange pi', 'Nexus 7', 'Masstel', 'chuwi hi10pro.', 'Asus zenpad C', 'Tăng điện áp', 'AKAI', 'Điện Quang', 'LiOA', 'Crossman', 'DOBO', 'Rạng Đông', 'Sonoff', 'BOSCH', 'SINO', 'HONJIANDA', 'Hanyoung', 'panasonic', 'Ariston', 'vinakip', 'National', 'COMET', 'LSE', 'Pansong', 'Havells', 'Mitsubishi', 'BAILLI', 'CHINT', 'BYZ', 'Hoco', 'TOPK', 'Miniso', 'SENDEM', 'FOOMEE', 'QKZ', 'EDIFIER', 'Knowledge Zenith (KZ)', 'moxpad', 'pulierde', 'RAPOO', 'Handmade King', 'Moxpad', 'Moondrop', 'Roland', 'Wiresto']\n"
     ]
    },
    {
     "data": {
      "text/plain": [
       "297"
      ]
     },
     "execution_count": 18,
     "metadata": {},
     "output_type": "execute_result"
    }
   ],
   "source": [
    "brand = new_df['brand'].unique()\n",
    "b = brand.tolist()\n",
    "print(b)\n",
    "len(brand)"
   ]
  },
  {
   "cell_type": "markdown",
   "metadata": {},
   "source": [
    "Có tới 300 brands song có nhiều giá trị trùng lặp: NoBrand, nobrand, sony, SONY,...."
   ]
  },
  {
   "cell_type": "code",
   "execution_count": 19,
   "metadata": {},
   "outputs": [
    {
     "name": "stderr",
     "output_type": "stream",
     "text": [
      "C:\\Users\\Rauciss\\AppData\\Local\\Temp\\ipykernel_19176\\3100919109.py:1: SettingWithCopyWarning: \n",
      "A value is trying to be set on a copy of a slice from a DataFrame.\n",
      "Try using .loc[row_indexer,col_indexer] = value instead\n",
      "\n",
      "See the caveats in the documentation: https://pandas.pydata.org/pandas-docs/stable/user_guide/indexing.html#returning-a-view-versus-a-copy\n",
      "  new_df[\"brand\"] = new_df[\"brand\"].str.lower().str.strip()\n"
     ]
    },
    {
     "data": {
      "text/plain": [
       "264"
      ]
     },
     "execution_count": 19,
     "metadata": {},
     "output_type": "execute_result"
    }
   ],
   "source": [
    "new_df[\"brand\"] = new_df[\"brand\"].str.lower().str.strip()\n",
    "brand = new_df['brand'].unique()\n",
    "len(brand)"
   ]
  },
  {
   "cell_type": "code",
   "execution_count": 20,
   "metadata": {},
   "outputs": [
    {
     "name": "stdout",
     "output_type": "stream",
     "text": [
      "['0', '2good', 'a4tech', 'acer', 'acnos', 'ajazz', 'akai', 'akg', 'alcatel one touch idol', 'altec lansing', 'amazon', 'amazon fire 8', 'amoi', 'anker', 'apple', 'arirang', 'ariston', 'ars', 'asano', 'asanzo', 'asrock', 'assassins', 'asus', 'asus zenpad c', 'audio-technica', 'audioengine', 'aula', 'avector', 'avermedia', 'bailli', 'bang & olufsen', 'baseus', 'basike', 'belkin', 'benjie', 'benq', 'bitmain', 'black shark', 'blackberry', 'bluelans', 'bmax', 'bmb', 'borofone', 'bosch', 'bose', 'bosston', 'boston', 'byz', 'c.o.k', 'calcutta', 'camelion', 'casper', 'chint', 'chuwi', 'chuwi hi10pro.', 'clip tv box', 'comet', 'coocaa', 'coolman sunshine', 'corsair', 'craven', 'crossman', 'crown', 'dareu', 'darling', 'dell', 'devialet', 'dido', 'divoom', 'dobo', 'doublepow', 'e-blue', 'e-dra', 'earldom', 'edifier', 'elecom', 'electronic', 'energizer', 'essager', 'fenda', 'fengzhilife', 'fire hd 10 2017', 'foomee', 'forter', 'free wolf', 'fuhlen', 'fujitsu', 'galaxy store', 'genius', 'gigabyte', 'golden field', 'google', 'google home', 'google nexus', 'goojodoq', 'growntech', 'gutek', 'handmade king', 'hanyoung', 'harman/kardon', 'havells', 'hoco', 'hoco.', 'honjianda', 'hp', 'huawei', 'huion', 'hxsj', 'hyperx', 'ibm', 'icore', 'ilepo', 'imice', 'inphic', 'intel', 'intel™', 'jarguar suhyoung', 'jba', 'jbl', 'jbz', 'jetek', 'jvj', 'kebidumei', 'kindle', 'king-master', 'kingmax', 'kingston', 'kiomic', 'klipsch', 'knowledge zenith (kz)', 'kovit', 'kuulaa', 'kyocera', 'langsdom', 'langtu', 'lenovo', 'lg', 'limeide', 'limeipe', 'lioa', 'lofree', 'logitech', 'lse', 'mackie', 'magicsee', 'maono', 'marshall', 'masstel', 'meetion', 'meizu', 'memo', 'micro máy tính', 'microlab', 'microsoft', 'mifa', 'miniso', 'mitsubishi', 'mitsumi', 'mixie', 'mobell', 'mofii', 'moondrop', 'moxpad', 'msi', 'mạch việt', 'national', 'nec', 'newmen', 'nexus 7', 'nintendo', 'nintendo switch', 'no brand', 'nobrand', 'nokia', 'none', 'oem', 'olympus', 'oneka', 'onikuma', 'ontek', 'ontekco', 'oppo', 'orange pi', 'orico', 'panasonic', 'pansong', 'philips', 'pioneer', 'pkcb', 'playstation', 'plextone', 'pluscloth', 'prolink', 'pulierde', 'qcy', 'qkz', 'r8', 'rapoo', 'ravpower', 'razer', 'remax', 'remax.', 'rhm', 'robot', 'rockspace', 'roland', 'romoss', 'royal kludge', 'ruizu', 'rạng đông', 'sada', 'samsung', 'sd design', 'sendem', 'senicc', 'sennheiser', 'sharp', 'shiseido', 'sido tech', 'sino', 'sonoff', 'sony', 'sony ericssons', 'soundmax', 'ssk', 'sumikura', 'sunrise', 'suntek', 'tcl', 'thinkpad', 'topk', 'toshiba', 'tronsmart', 'tws', 'tăng điện áp', 'ugreen', 'uniscom', 'unizone', 'viettech', 'vinakip', 'vitog', 'vivan', 'vivo', 'vsmart', 'w-king', 'wacom', 'wiresto', 'wk design', 'woaichang', 'xduoo', 'xiaomi', 'xiaomi.', 'xigmatek', 'xp-pen', 'xsmart', 'yayusi', 'yoobao', 'zachia', 'zadez', 'zansong', 'zealot', 'zte', 'điện quang', nan]\n"
     ]
    }
   ],
   "source": [
    "sorted_brands = new_df[\"brand\"].sort_values().unique()\n",
    "e = sorted_brands.tolist()\n",
    "print(e)"
   ]
  },
  {
   "cell_type": "code",
   "execution_count": 21,
   "metadata": {},
   "outputs": [
    {
     "name": "stderr",
     "output_type": "stream",
     "text": [
      "C:\\Users\\Rauciss\\AppData\\Local\\Temp\\ipykernel_19176\\40797381.py:1: FutureWarning: The default value of regex will change from True to False in a future version. In addition, single character regular expressions will *not* be treated as literal strings when regex=True.\n",
      "  new_df[\"brand\"] = new_df[\"brand\"].str.replace(\".\", \"\")\n",
      "C:\\Users\\Rauciss\\AppData\\Local\\Temp\\ipykernel_19176\\40797381.py:1: SettingWithCopyWarning: \n",
      "A value is trying to be set on a copy of a slice from a DataFrame.\n",
      "Try using .loc[row_indexer,col_indexer] = value instead\n",
      "\n",
      "See the caveats in the documentation: https://pandas.pydata.org/pandas-docs/stable/user_guide/indexing.html#returning-a-view-versus-a-copy\n",
      "  new_df[\"brand\"] = new_df[\"brand\"].str.replace(\".\", \"\")\n",
      "C:\\Users\\Rauciss\\AppData\\Local\\Temp\\ipykernel_19176\\40797381.py:2: SettingWithCopyWarning: \n",
      "A value is trying to be set on a copy of a slice from a DataFrame.\n",
      "Try using .loc[row_indexer,col_indexer] = value instead\n",
      "\n",
      "See the caveats in the documentation: https://pandas.pydata.org/pandas-docs/stable/user_guide/indexing.html#returning-a-view-versus-a-copy\n",
      "  new_df[\"brand\"] = new_df[\"brand\"].replace({\n"
     ]
    },
    {
     "data": {
      "text/plain": [
       "258"
      ]
     },
     "execution_count": 21,
     "metadata": {},
     "output_type": "execute_result"
    }
   ],
   "source": [
    "new_df[\"brand\"] = new_df[\"brand\"].str.replace(\".\", \"\")\n",
    "new_df[\"brand\"] = new_df[\"brand\"].replace({\n",
    "    'intel™': 'intel',\n",
    "    'nobrand': 'no brand',\n",
    "    'none': 'no brand',\n",
    "    'nan': 'no brand',\n",
    "    'rock space': 'rockspace'\n",
    "})\n",
    "len(new_df[\"brand\"].unique())\n"
   ]
  },
  {
   "cell_type": "code",
   "execution_count": 22,
   "metadata": {},
   "outputs": [
    {
     "data": {
      "text/plain": [
       "2        no brand\n",
       "5        no brand\n",
       "6        no brand\n",
       "7        no brand\n",
       "9        no brand\n",
       "           ...   \n",
       "16178    no brand\n",
       "16179    no brand\n",
       "16180    no brand\n",
       "16181    no brand\n",
       "16182    no brand\n",
       "Name: brand, Length: 15835, dtype: object"
      ]
     },
     "execution_count": 22,
     "metadata": {},
     "output_type": "execute_result"
    }
   ],
   "source": [
    "new_df['brand'].fillna('no brand')"
   ]
  },
  {
   "cell_type": "code",
   "execution_count": 23,
   "metadata": {},
   "outputs": [
    {
     "name": "stderr",
     "output_type": "stream",
     "text": [
      "C:\\Users\\Rauciss\\AppData\\Local\\Temp\\ipykernel_19176\\572235798.py:1: SettingWithCopyWarning: \n",
      "A value is trying to be set on a copy of a slice from a DataFrame.\n",
      "Try using .loc[row_indexer,col_indexer] = value instead\n",
      "\n",
      "See the caveats in the documentation: https://pandas.pydata.org/pandas-docs/stable/user_guide/indexing.html#returning-a-view-versus-a-copy\n",
      "  new_df[\"brand\"] = new_df[\"brand\"].fillna(\"no brand\")\n"
     ]
    }
   ],
   "source": [
    "new_df[\"brand\"] = new_df[\"brand\"].fillna(\"no brand\")"
   ]
  },
  {
   "cell_type": "code",
   "execution_count": 24,
   "metadata": {},
   "outputs": [
    {
     "name": "stderr",
     "output_type": "stream",
     "text": [
      "C:\\Users\\Rauciss\\AppData\\Local\\Temp\\ipykernel_19176\\1357669426.py:1: SettingWithCopyWarning: \n",
      "A value is trying to be set on a copy of a slice from a DataFrame.\n",
      "Try using .loc[row_indexer,col_indexer] = value instead\n",
      "\n",
      "See the caveats in the documentation: https://pandas.pydata.org/pandas-docs/stable/user_guide/indexing.html#returning-a-view-versus-a-copy\n",
      "  new_df[\"discount\"] = new_df[\"discount\"].str.replace(\"%\", \"\")\n",
      "C:\\Users\\Rauciss\\AppData\\Local\\Temp\\ipykernel_19176\\1357669426.py:2: SettingWithCopyWarning: \n",
      "A value is trying to be set on a copy of a slice from a DataFrame.\n",
      "Try using .loc[row_indexer,col_indexer] = value instead\n",
      "\n",
      "See the caveats in the documentation: https://pandas.pydata.org/pandas-docs/stable/user_guide/indexing.html#returning-a-view-versus-a-copy\n",
      "  new_df[\"discount\"] = pd.to_numeric(new_df[\"discount\"], errors=\"coerce\").fillna(0)\n"
     ]
    }
   ],
   "source": [
    "new_df[\"discount\"] = new_df[\"discount\"].str.replace(\"%\", \"\")\n",
    "new_df[\"discount\"] = pd.to_numeric(new_df[\"discount\"], errors=\"coerce\").fillna(0)\n"
   ]
  },
  {
   "cell_type": "code",
   "execution_count": 25,
   "metadata": {},
   "outputs": [
    {
     "data": {
      "text/plain": [
       "Hà Nội             6079\n",
       "TP. Hồ Chí Minh    4728\n",
       "Nước ngoài         2465\n",
       "Hải Phòng           271\n",
       "Hải Dương           212\n",
       "                   ... \n",
       "Kon Tum               2\n",
       "Bắc Kạn               2\n",
       "Hàn Quốc              2\n",
       "Cao Bằng              2\n",
       "Hong Kong             1\n",
       "Name: shop_location, Length: 66, dtype: int64"
      ]
     },
     "execution_count": 25,
     "metadata": {},
     "output_type": "execute_result"
    }
   ],
   "source": [
    "new_df['shop_location'].value_counts()"
   ]
  },
  {
   "cell_type": "code",
   "execution_count": 26,
   "metadata": {},
   "outputs": [
    {
     "name": "stderr",
     "output_type": "stream",
     "text": [
      "C:\\Users\\Rauciss\\AppData\\Local\\Temp\\ipykernel_19176\\1900039218.py:1: SettingWithCopyWarning: \n",
      "A value is trying to be set on a copy of a slice from a DataFrame.\n",
      "Try using .loc[row_indexer,col_indexer] = value instead\n",
      "\n",
      "See the caveats in the documentation: https://pandas.pydata.org/pandas-docs/stable/user_guide/indexing.html#returning-a-view-versus-a-copy\n",
      "  new_df['shop_location'] = new_df['shop_location'].fillna('Hà Nội')\n",
      "C:\\Users\\Rauciss\\AppData\\Local\\Temp\\ipykernel_19176\\1900039218.py:2: SettingWithCopyWarning: \n",
      "A value is trying to be set on a copy of a slice from a DataFrame.\n",
      "Try using .loc[row_indexer,col_indexer] = value instead\n",
      "\n",
      "See the caveats in the documentation: https://pandas.pydata.org/pandas-docs/stable/user_guide/indexing.html#returning-a-view-versus-a-copy\n",
      "  new_df[\"shop_location\"] = new_df[\"shop_location\"].replace({\n"
     ]
    },
    {
     "data": {
      "text/plain": [
       "64"
      ]
     },
     "execution_count": 26,
     "metadata": {},
     "output_type": "execute_result"
    }
   ],
   "source": [
    "new_df['shop_location'] = new_df['shop_location'].fillna('Hà Nội')\n",
    "new_df[\"shop_location\"] = new_df[\"shop_location\"].replace({\n",
    "    'Hàn Quốc': 'Nước ngoài',\n",
    "    'Hong Kong': 'Nước ngoài'\n",
    "})\n",
    "len(new_df['shop_location'].unique())"
   ]
  },
  {
   "cell_type": "code",
   "execution_count": 27,
   "metadata": {},
   "outputs": [
    {
     "name": "stderr",
     "output_type": "stream",
     "text": [
      "C:\\Users\\Rauciss\\AppData\\Local\\Temp\\ipykernel_19176\\2046214833.py:1: SettingWithCopyWarning: \n",
      "A value is trying to be set on a copy of a slice from a DataFrame.\n",
      "Try using .loc[row_indexer,col_indexer] = value instead\n",
      "\n",
      "See the caveats in the documentation: https://pandas.pydata.org/pandas-docs/stable/user_guide/indexing.html#returning-a-view-versus-a-copy\n",
      "  new_df['price'] = new_df['price'] / 100000\n"
     ]
    }
   ],
   "source": [
    "new_df['price'] = new_df['price'] / 100000 "
   ]
  },
  {
   "cell_type": "code",
   "execution_count": 28,
   "metadata": {},
   "outputs": [
    {
     "name": "stderr",
     "output_type": "stream",
     "text": [
      "C:\\Users\\Rauciss\\AppData\\Local\\Temp\\ipykernel_19176\\2598832837.py:1: SettingWithCopyWarning: \n",
      "A value is trying to be set on a copy of a slice from a DataFrame.\n",
      "Try using .loc[row_indexer,col_indexer] = value instead\n",
      "\n",
      "See the caveats in the documentation: https://pandas.pydata.org/pandas-docs/stable/user_guide/indexing.html#returning-a-view-versus-a-copy\n",
      "  new_df['ctime'] = pd.to_datetime(new_df['ctime'], unit='s')\n"
     ]
    },
    {
     "data": {
      "text/html": [
       "<div>\n",
       "<style scoped>\n",
       "    .dataframe tbody tr th:only-of-type {\n",
       "        vertical-align: middle;\n",
       "    }\n",
       "\n",
       "    .dataframe tbody tr th {\n",
       "        vertical-align: top;\n",
       "    }\n",
       "\n",
       "    .dataframe thead th {\n",
       "        text-align: right;\n",
       "    }\n",
       "</style>\n",
       "<table border=\"1\" class=\"dataframe\">\n",
       "  <thead>\n",
       "    <tr style=\"text-align: right;\">\n",
       "      <th></th>\n",
       "      <th>itemid</th>\n",
       "      <th>shopid</th>\n",
       "      <th>name</th>\n",
       "      <th>brand</th>\n",
       "      <th>subcatid</th>\n",
       "      <th>category</th>\n",
       "      <th>cb_option</th>\n",
       "      <th>cmt_count</th>\n",
       "      <th>rating</th>\n",
       "      <th>ctime</th>\n",
       "      <th>...</th>\n",
       "      <th>is_official_shop</th>\n",
       "      <th>liked_count</th>\n",
       "      <th>price</th>\n",
       "      <th>discount</th>\n",
       "      <th>stock</th>\n",
       "      <th>show_free_shipping</th>\n",
       "      <th>shop_location</th>\n",
       "      <th>shopee_verified</th>\n",
       "      <th>can_use_bundle_deal</th>\n",
       "      <th>can_use_cod</th>\n",
       "    </tr>\n",
       "  </thead>\n",
       "  <tbody>\n",
       "    <tr>\n",
       "      <th>2</th>\n",
       "      <td>3066084859</td>\n",
       "      <td>45654584</td>\n",
       "      <td>Bàn phím máy tính gaming G21, bàn phím giả cơ ...</td>\n",
       "      <td>no brand</td>\n",
       "      <td>100644</td>\n",
       "      <td>Bàn phím</td>\n",
       "      <td>0</td>\n",
       "      <td>2475</td>\n",
       "      <td>4.766680</td>\n",
       "      <td>2021-06-23 10:16:05</td>\n",
       "      <td>...</td>\n",
       "      <td>False</td>\n",
       "      <td>1134</td>\n",
       "      <td>35000.0</td>\n",
       "      <td>37.0</td>\n",
       "      <td>448</td>\n",
       "      <td>True</td>\n",
       "      <td>TP. Hồ Chí Minh</td>\n",
       "      <td>True</td>\n",
       "      <td>False</td>\n",
       "      <td>True</td>\n",
       "    </tr>\n",
       "    <tr>\n",
       "      <th>5</th>\n",
       "      <td>20011286067</td>\n",
       "      <td>792250698</td>\n",
       "      <td>Set bàn phím không dây bluetooth và chuột hoạt...</td>\n",
       "      <td>no brand</td>\n",
       "      <td>100644</td>\n",
       "      <td>Bàn phím</td>\n",
       "      <td>0</td>\n",
       "      <td>2468</td>\n",
       "      <td>4.645867</td>\n",
       "      <td>2022-06-13 08:57:36</td>\n",
       "      <td>...</td>\n",
       "      <td>False</td>\n",
       "      <td>4808</td>\n",
       "      <td>49000.0</td>\n",
       "      <td>50.0</td>\n",
       "      <td>207287</td>\n",
       "      <td>False</td>\n",
       "      <td>TP. Hồ Chí Minh</td>\n",
       "      <td>True</td>\n",
       "      <td>False</td>\n",
       "      <td>True</td>\n",
       "    </tr>\n",
       "    <tr>\n",
       "      <th>6</th>\n",
       "      <td>7134465302</td>\n",
       "      <td>63347190</td>\n",
       "      <td>Bàn phím căn phòng có dây JDKEE KB-816</td>\n",
       "      <td>no brand</td>\n",
       "      <td>100644</td>\n",
       "      <td>Bàn phím</td>\n",
       "      <td>0</td>\n",
       "      <td>585</td>\n",
       "      <td>4.464957</td>\n",
       "      <td>2020-05-18 07:33:52</td>\n",
       "      <td>...</td>\n",
       "      <td>False</td>\n",
       "      <td>179</td>\n",
       "      <td>59000.0</td>\n",
       "      <td>13.0</td>\n",
       "      <td>14</td>\n",
       "      <td>False</td>\n",
       "      <td>Hà Nội</td>\n",
       "      <td>True</td>\n",
       "      <td>False</td>\n",
       "      <td>True</td>\n",
       "    </tr>\n",
       "    <tr>\n",
       "      <th>7</th>\n",
       "      <td>20991373250</td>\n",
       "      <td>1032884533</td>\n",
       "      <td>Chuột Và Bàn Phím Máy Tính MAKTO, Chuột M1 + B...</td>\n",
       "      <td>no brand</td>\n",
       "      <td>100644</td>\n",
       "      <td>Bàn phím</td>\n",
       "      <td>0</td>\n",
       "      <td>0</td>\n",
       "      <td>0.000000</td>\n",
       "      <td>2023-07-31 02:18:47</td>\n",
       "      <td>...</td>\n",
       "      <td>False</td>\n",
       "      <td>0</td>\n",
       "      <td>83000.0</td>\n",
       "      <td>50.0</td>\n",
       "      <td>3000</td>\n",
       "      <td>False</td>\n",
       "      <td>Nam Định</td>\n",
       "      <td>False</td>\n",
       "      <td>False</td>\n",
       "      <td>True</td>\n",
       "    </tr>\n",
       "    <tr>\n",
       "      <th>9</th>\n",
       "      <td>1833183314</td>\n",
       "      <td>118899185</td>\n",
       "      <td>Bàn phím Mini K1000 USB - Full Box- Chất Lượng...</td>\n",
       "      <td>no brand</td>\n",
       "      <td>100644</td>\n",
       "      <td>Bàn phím</td>\n",
       "      <td>0</td>\n",
       "      <td>2873</td>\n",
       "      <td>4.767061</td>\n",
       "      <td>2019-01-13 06:58:39</td>\n",
       "      <td>...</td>\n",
       "      <td>False</td>\n",
       "      <td>925</td>\n",
       "      <td>70000.0</td>\n",
       "      <td>46.0</td>\n",
       "      <td>7</td>\n",
       "      <td>True</td>\n",
       "      <td>TP. Hồ Chí Minh</td>\n",
       "      <td>True</td>\n",
       "      <td>False</td>\n",
       "      <td>True</td>\n",
       "    </tr>\n",
       "  </tbody>\n",
       "</table>\n",
       "<p>5 rows × 23 columns</p>\n",
       "</div>"
      ],
      "text/plain": [
       "        itemid      shopid                                               name  \\\n",
       "2   3066084859    45654584  Bàn phím máy tính gaming G21, bàn phím giả cơ ...   \n",
       "5  20011286067   792250698  Set bàn phím không dây bluetooth và chuột hoạt...   \n",
       "6   7134465302    63347190             Bàn phím căn phòng có dây JDKEE KB-816   \n",
       "7  20991373250  1032884533  Chuột Và Bàn Phím Máy Tính MAKTO, Chuột M1 + B...   \n",
       "9   1833183314   118899185  Bàn phím Mini K1000 USB - Full Box- Chất Lượng...   \n",
       "\n",
       "      brand  subcatid  category  cb_option  cmt_count    rating  \\\n",
       "2  no brand    100644  Bàn phím          0       2475  4.766680   \n",
       "5  no brand    100644  Bàn phím          0       2468  4.645867   \n",
       "6  no brand    100644  Bàn phím          0        585  4.464957   \n",
       "7  no brand    100644  Bàn phím          0          0  0.000000   \n",
       "9  no brand    100644  Bàn phím          0       2873  4.767061   \n",
       "\n",
       "                ctime  ...  is_official_shop  liked_count    price  discount  \\\n",
       "2 2021-06-23 10:16:05  ...             False         1134  35000.0      37.0   \n",
       "5 2022-06-13 08:57:36  ...             False         4808  49000.0      50.0   \n",
       "6 2020-05-18 07:33:52  ...             False          179  59000.0      13.0   \n",
       "7 2023-07-31 02:18:47  ...             False            0  83000.0      50.0   \n",
       "9 2019-01-13 06:58:39  ...             False          925  70000.0      46.0   \n",
       "\n",
       "    stock  show_free_shipping    shop_location  shopee_verified  \\\n",
       "2     448                True  TP. Hồ Chí Minh             True   \n",
       "5  207287               False  TP. Hồ Chí Minh             True   \n",
       "6      14               False           Hà Nội             True   \n",
       "7    3000               False         Nam Định            False   \n",
       "9       7                True  TP. Hồ Chí Minh             True   \n",
       "\n",
       "   can_use_bundle_deal can_use_cod  \n",
       "2                False        True  \n",
       "5                False        True  \n",
       "6                False        True  \n",
       "7                False        True  \n",
       "9                False        True  \n",
       "\n",
       "[5 rows x 23 columns]"
      ]
     },
     "execution_count": 28,
     "metadata": {},
     "output_type": "execute_result"
    }
   ],
   "source": [
    "\n",
    "new_df['ctime'] = pd.to_datetime(new_df['ctime'], unit='s')\n",
    "new_df.head()"
   ]
  },
  {
   "cell_type": "code",
   "execution_count": 30,
   "metadata": {},
   "outputs": [],
   "source": [
    "new_df.to_csv('cleandata\\shopee_products.csv')"
   ]
  },
  {
   "cell_type": "code",
   "execution_count": null,
   "metadata": {},
   "outputs": [],
   "source": []
  }
 ],
 "metadata": {
  "kernelspec": {
   "display_name": "Python 3",
   "language": "python",
   "name": "python3"
  },
  "language_info": {
   "codemirror_mode": {
    "name": "ipython",
    "version": 3
   },
   "file_extension": ".py",
   "mimetype": "text/x-python",
   "name": "python",
   "nbconvert_exporter": "python",
   "pygments_lexer": "ipython3",
   "version": "3.10.7"
  },
  "orig_nbformat": 4
 },
 "nbformat": 4,
 "nbformat_minor": 2
}
